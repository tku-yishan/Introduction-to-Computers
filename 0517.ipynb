{
  "nbformat": 4,
  "nbformat_minor": 0,
  "metadata": {
    "colab": {
      "provenance": [],
      "authorship_tag": "ABX9TyNo/5SlNmrPKpWk1XJPzDcI",
      "include_colab_link": true
    },
    "kernelspec": {
      "name": "python3",
      "display_name": "Python 3"
    },
    "language_info": {
      "name": "python"
    }
  },
  "cells": [
    {
      "cell_type": "markdown",
      "metadata": {
        "id": "view-in-github",
        "colab_type": "text"
      },
      "source": [
        "<a href=\"https://colab.research.google.com/github/tku-yishan/Introduction-to-Computers/blob/main/0517.ipynb\" target=\"_parent\"><img src=\"https://colab.research.google.com/assets/colab-badge.svg\" alt=\"Open In Colab\"/></a>"
      ]
    },
    {
      "cell_type": "code",
      "execution_count": 1,
      "metadata": {
        "colab": {
          "base_uri": "https://localhost:8080/"
        },
        "id": "71-Ns7EpRh1m",
        "outputId": "f85895c2-6af2-4656-fb91-bc740a096ddc"
      },
      "outputs": [
        {
          "output_type": "stream",
          "name": "stdout",
          "text": [
            "今天會下雨嗎?n\n",
            "請重新輸入\n"
          ]
        }
      ],
      "source": [
        "rain = input(\"今天會下雨嗎?\")\n",
        "if (rain == 'Y' or rain == 'y'):\n",
        "  print(\"出門記得帶傘!\")\n",
        "elif (rain != 'Y' or rain != 'y'):\n",
        "  print(\"請重新輸入\")\n",
        "else:\n",
        "  print('不用帶傘')"
      ]
    },
    {
      "cell_type": "code",
      "source": [
        "body = float(input(\"請輸入體溫值:\"))\n",
        "if body >= 37.5:\n",
        "  print(\"體溫過高!\")\n",
        "elif 37 <= body <= 37.4:\n",
        "  print(\"體溫略高!\")\n",
        "elif 34 <= body <= 36.9:\n",
        "  print(\"體溫正常!\")\n",
        "else:\n",
        "  print('體溫異常，請重新量測!')"
      ],
      "metadata": {
        "colab": {
          "base_uri": "https://localhost:8080/"
        },
        "id": "Zjv1pcVdTSmv",
        "outputId": "476d894e-1bb8-4920-ad04-f12f407f95b1"
      },
      "execution_count": 10,
      "outputs": [
        {
          "output_type": "stream",
          "name": "stdout",
          "text": [
            "請輸入體溫值:36\n",
            "體溫正常!\n"
          ]
        }
      ]
    },
    {
      "cell_type": "code",
      "source": [
        "score = int(input('請輸入成績:'))\n",
        "if score >= 90:\n",
        "  grade = \"A\"\n",
        "elif score >= 80:\n",
        "  grade = \"B\"\n",
        "elif score >= 70:\n",
        "  grade = \"C\"\n",
        "elif score >= 60:\n",
        "  grade = \"D\"\n",
        "else:\n",
        "  grade = \"E\"\n",
        "print(grade)"
      ],
      "metadata": {
        "colab": {
          "base_uri": "https://localhost:8080/"
        },
        "id": "Ug2F_aOZWIEJ",
        "outputId": "9148cb14-8830-455e-9b3a-6e86d82b959d"
      },
      "execution_count": 12,
      "outputs": [
        {
          "output_type": "stream",
          "name": "stdout",
          "text": [
            "請輸入成績:77\n",
            "C\n"
          ]
        }
      ]
    },
    {
      "cell_type": "code",
      "source": [
        "month = int(input('請輸入月份:'))\n",
        "if month in [3,4,5]:\n",
        "  season = \"春天\"\n",
        "elif month in [6,7,8]:\n",
        "  season = \"夏天\"\n",
        "elif month in [9, 10, 11]:\n",
        "  season = \"秋天\"\n",
        "elif month in [12, 1, 2]:\n",
        "  season = \"冬天\"\n",
        "else:\n",
        "  season = \"月份不再範圍內\"\n",
        "print(month,'月是',season)"
      ],
      "metadata": {
        "colab": {
          "base_uri": "https://localhost:8080/"
        },
        "id": "IhfmTt6YWR0B",
        "outputId": "f0ff537f-5b2e-4a11-c46c-3c704f7f5eb4"
      },
      "execution_count": 13,
      "outputs": [
        {
          "output_type": "stream",
          "name": "stdout",
          "text": [
            "請輸入月份:12\n",
            "12 月是 冬天\n"
          ]
        }
      ]
    },
    {
      "cell_type": "code",
      "source": [
        "income = int(input(\"請輸入收入：\"))\n",
        "if income >= 2000000:\n",
        "  tax_rate = 0.3\n",
        "elif income >= 1000000:\n",
        "  tax_rate = 0.21\n",
        "elif income >= 600000:\n",
        "  tax_rate = 0.13\n",
        "elif income >= 300000:\n",
        "  tax_rate = 0.06\n",
        "else:\n",
        "  tax_rate = 0\n",
        "tax_amount = income * tax_rate\n",
        "print(\"應繳稅額：\", tax_amount)"
      ],
      "metadata": {
        "colab": {
          "base_uri": "https://localhost:8080/"
        },
        "id": "JOOWbev1X2er",
        "outputId": "64482038-192c-421f-effe-06366dff23b2"
      },
      "execution_count": 14,
      "outputs": [
        {
          "output_type": "stream",
          "name": "stdout",
          "text": [
            "請輸入收入：500000\n",
            "應繳稅額： 30000.0\n"
          ]
        }
      ]
    }
  ]
}